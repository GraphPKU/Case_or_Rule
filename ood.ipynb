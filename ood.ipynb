{
 "cells": [
  {
   "cell_type": "code",
   "execution_count": 1,
   "metadata": {},
   "outputs": [
    {
     "name": "stderr",
     "output_type": "stream",
     "text": [
      "/home/huyi/miniconda3/lib/python3.9/site-packages/tqdm/auto.py:22: TqdmWarning: IProgress not found. Please update jupyter and ipywidgets. See https://ipywidgets.readthedocs.io/en/stable/user_install.html\n",
      "  from .autonotebook import tqdm as notebook_tqdm\n"
     ]
    }
   ],
   "source": [
    "import torch\n",
    "from transformers.models.gpt2 import GPT2Config, GPT2LMHeadModel, GPT2Tokenizer\n",
    "import transformers\n",
    "from transformers import AutoTokenizer\n",
    "from dataset import GPT2Dataset, GPT2DatasetReplace, TestDataset\n",
    "from tqdm import tqdm\n",
    "import numpy as np\n",
    "import json\n",
    "import re\n",
    "import os"
   ]
  },
  {
   "cell_type": "code",
   "execution_count": 2,
   "metadata": {},
   "outputs": [],
   "source": [
    "device = \"cuda:1\"\n",
    "task = \"mod_add_ood_8\""
   ]
  },
  {
   "cell_type": "code",
   "execution_count": 3,
   "metadata": {},
   "outputs": [
    {
     "name": "stdout",
     "output_type": "stream",
     "text": [
      "loading model...\n",
      "done!\n"
     ]
    }
   ],
   "source": [
    "print(\"loading model...\")\n",
    "model = GPT2LMHeadModel.from_pretrained(f\"save_model/{task}/model_90\").to(device)\n",
    "tokenizer = GPT2Tokenizer.from_pretrained(\"pretrained_models/gpt2\")\n",
    "print(\"done!\")"
   ]
  },
  {
   "cell_type": "code",
   "execution_count": 4,
   "metadata": {},
   "outputs": [],
   "source": [
    "file_path=f'datasets/{task}/test.json'\n",
    "with open(file_path, \"r\") as f:\n",
    "    test_set = json.load(f)"
   ]
  },
  {
   "cell_type": "code",
   "execution_count": 5,
   "metadata": {},
   "outputs": [],
   "source": [
    "def extract_answer(s: str):\n",
    "    return re.findall(r'[0-9]+\\.?[0-9]*', s)[-1]\n",
    "\n",
    "def generate(test_set, model, temperature=1, generation_num=10):\n",
    "    '''\n",
    "    return a list of dict [{\n",
    "        \"question\":, \"a\":, \"b\":, \"answers\":[], \"generated_answers\":[], \"acc\":\n",
    "    }]\n",
    "    '''\n",
    "    generated_samples = []\n",
    "    for sample in tqdm(test_set):\n",
    "        query = tokenizer(sample[\"question\"], return_tensors=\"pt\").input_ids\n",
    "        answer = sample[\"answers\"][0]\n",
    "        generated_answers = []\n",
    "        correct = 0\n",
    "        all = 0\n",
    "        for _ in range(generation_num):\n",
    "            outputs = model.generate(query.to(device), max_length=50, do_sample=True, temperature=temperature, pad_token_id=50257)\n",
    "            generated_answer = tokenizer.batch_decode(outputs, skip_special_tokens=True)[0]\n",
    "            generated_answer = extract_answer(generated_answer)\n",
    "            generated_answers.append(generated_answer)\n",
    "            all += 1\n",
    "            if generated_answer == answer:\n",
    "                correct += 1\n",
    "        sample[\"generated_answers\"] = generated_answers\n",
    "        sample[\"accuracy\"] = correct/all\n",
    "        generated_samples.append(sample)\n",
    "    return generated_samples\n",
    "            \n",
    "        \n",
    "        "
   ]
  },
  {
   "cell_type": "code",
   "execution_count": 6,
   "metadata": {},
   "outputs": [
    {
     "name": "stderr",
     "output_type": "stream",
     "text": [
      "100%|██████████| 1681/1681 [04:55<00:00,  5.69it/s]\n"
     ]
    }
   ],
   "source": [
    "results = generate(test_set, model)"
   ]
  },
  {
   "cell_type": "code",
   "execution_count": 7,
   "metadata": {},
   "outputs": [],
   "source": [
    "a_range = b_range = int(np.sqrt(len(test_set)))\n",
    "data = np.zeros((a_range, b_range))\n",
    "a_start = int(test_set[0][\"a\"])\n",
    "b_start = int(test_set[0][\"b\"])\n",
    "for result in results:\n",
    "    a = int(result[\"a\"])\n",
    "    b = int(result[\"b\"])\n",
    "    data[a-a_start][b-b_start] = result[\"accuracy\"]"
   ]
  },
  {
   "cell_type": "code",
   "execution_count": 9,
   "metadata": {},
   "outputs": [
    {
     "data": {
      "text/plain": [
       "<matplotlib.colorbar.Colorbar at 0x7f2a6447aaf0>"
      ]
     },
     "execution_count": 9,
     "metadata": {},
     "output_type": "execute_result"
    },
    {
     "data": {
      "image/png": "[encoded data removed]",
      "text/plain": [
       "<Figure size 640x480 with 2 Axes>"
      ]
     },
     "metadata": {},
     "output_type": "display_data"
    }
   ],
   "source": [
    "import matplotlib.pyplot as plt\n",
    "\n",
    "plt.title(\"a range: $[20,60]$; b range: $[70,110]$\")\n",
    "plt.imshow(data)\n",
    "plt.colorbar()"
   ]
  }
 ],
 "metadata": {
  "kernelspec": {
   "display_name": "Python 3.9.12 ('base': conda)",
   "language": "python",
   "name": "python3"
  },
  "language_info": {
   "codemirror_mode": {
    "name": "ipython",
    "version": 3
   },
   "file_extension": ".py",
   "mimetype": "text/x-python",
   "name": "python",
   "nbconvert_exporter": "python",
   "pygments_lexer": "ipython3",
   "version": "3.9.12"
  },
  "orig_nbformat": 4,
  "vscode": {
   "interpreter": {
    "hash": "2344b6d4cf75e2fe63d7adea2acd8b07cf02ecdef8a7e7834a9c3ab9d9f0906f"
   }
  }
 },
 "nbformat": 4,
 "nbformat_minor": 2
}
