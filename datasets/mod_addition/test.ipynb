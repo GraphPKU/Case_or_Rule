{
 "cells": [
  {
   "cell_type": "code",
   "execution_count": 39,
   "metadata": {},
   "outputs": [],
   "source": [
    "def extract_answer(rationale):\n",
    "    answer = str(int(rationale.split(\"\\n\")[-1].split(\",\")[1]))\n",
    "    return answer\n",
    "\n",
    "def count_c(a_digit, b_digit, c, mode):\n",
    "    a_digit = int(a_digit)\n",
    "    b_digit = int(b_digit)\n",
    "    c = int(c)\n",
    "    if mode == \"add\":\n",
    "        if a_digit + b_digit + c>= 10:\n",
    "            return 1\n",
    "        else:\n",
    "            return 0\n",
    "    elif mode == \"subtract\":\n",
    "        if a_digit - b_digit + c < 0:\n",
    "            return -1\n",
    "        else:\n",
    "            return 0\n",
    "\n",
    "def count_sub(a_digit, b_digit, c):\n",
    "    r = a_digit - b_digit + c\n",
    "    if r < 0:\n",
    "        return str(10 + r)\n",
    "    else:\n",
    "        return str(r)\n",
    "\n",
    "def gen_cot_rationale(a, b, mode=\"add\"):\n",
    "    '''\n",
    "    return the cot rationale for the question\n",
    "    '''\n",
    "    a_digits = [digit for digit in str(a)]\n",
    "    b_digits = [digit for digit in str(b)]\n",
    "    rationale = \"\"\n",
    "    answer = \"\"\n",
    "    c = 0\n",
    "    if mode == \"add\":\n",
    "        gt = int(a) + int(b)\n",
    "        for _ in range(len(str(int(a)+int(b)))+1):\n",
    "            line = f\"{''.join(a_digits)}+{''.join(b_digits)},{answer},C:{c}\\n\"\n",
    "            rationale += line\n",
    "            if a_digits and b_digits:\n",
    "                answer = str(int(a_digits[-1]) + int(b_digits[-1]) + c)[-1] + answer\n",
    "                c = count_c(a_digits[-1], b_digits[-1], c, mode)\n",
    "                a_digits.pop()\n",
    "                b_digits.pop()\n",
    "            elif a_digits:\n",
    "                answer = str(int(a_digits[-1]) + c)[-1] + answer\n",
    "                c = count_c(a_digits[-1], 0, c, mode)\n",
    "                a_digits.pop()\n",
    "            elif b_digits:\n",
    "                answer = str(int(b_digits[-1]) + c)[-1] + answer\n",
    "                c = count_c(0, b_digits[-1], c, mode)\n",
    "                b_digits.pop()\n",
    "            else:\n",
    "                if c:\n",
    "                    answer = str(c) + answer\n",
    "                c = 0\n",
    "    elif mode == \"subtract\":\n",
    "        gt = int(a) - int(b)\n",
    "        for _ in range(max(len(str(a)), len(str(b)))+1):\n",
    "            line = f\"{''.join(a_digits)}-{''.join(b_digits)},{answer},C:{c}\\n\"\n",
    "            rationale += line\n",
    "            if a_digits and b_digits:\n",
    "                answer = count_sub(int(a_digits[-1]),int(b_digits[-1]),c)[-1] + answer\n",
    "                c = count_c(a_digits[-1], b_digits[-1], c, mode)\n",
    "                a_digits.pop()\n",
    "                b_digits.pop()\n",
    "            elif a_digits:\n",
    "                answer = count_sub(int(a_digits[-1]),0,c)[-1] + answer\n",
    "                c = count_c(a_digits[-1], 0, c, mode)\n",
    "                a_digits.pop()\n",
    "            elif b_digits:\n",
    "                answer = count_sub(0,int(b_digits[-1]),c)[-1] + answer\n",
    "                c = count_c(0, b_digits[-1], c, mode)\n",
    "                b_digits.pop()\n",
    "            else:\n",
    "                if c:\n",
    "                    answer = count_sub(0,0,c) + answer\n",
    "                c = 0\n",
    "    rationale = rationale.strip()\n",
    "    assert int(extract_answer(rationale)) == int(gt)\n",
    "    return f\"{rationale}\\n{gt}\"\n",
    "\n",
    "def gen_mod_add_cot_rationale(a, b, P):\n",
    "    rationale = gen_cot_rationale(a, b, mode=\"add\")\n",
    "    if a + b >= P:\n",
    "        rationale += f\"\\n{a+b}>={P}\\n\"\n",
    "        rationale += gen_cot_rationale(a+b, P, mode=\"subtract\")\n",
    "    else:\n",
    "        rationale += f\"\\n{a+b}<{P}\\n{a+b}\"\n",
    "    return rationale"
   ]
  },
  {
   "cell_type": "code",
   "execution_count": 40,
   "metadata": {},
   "outputs": [
    {
     "name": "stdout",
     "output_type": "stream",
     "text": [
      "102+98,,C:0\n",
      "10+9,0,C:1\n",
      "1+,00,C:1\n",
      "+,200,C:0\n",
      "200\n",
      "200>=113\n",
      "200-113,,C:0\n",
      "20-11,7,C:-1\n",
      "2-1,87,C:-1\n",
      "-,087,C:0\n",
      "87\n"
     ]
    }
   ],
   "source": [
    "print(gen_mod_add_cot_rationale(102, 98, 113))"
   ]
  },
  {
   "cell_type": "code",
   "execution_count": 41,
   "metadata": {},
   "outputs": [],
   "source": [
    "for a in range(113,226):\n",
    "    gen_cot_rationale(a,113)"
   ]
  }
 ],
 "metadata": {
  "kernelspec": {
   "display_name": "Python 3.9.12 ('base': conda)",
   "language": "python",
   "name": "python3"
  },
  "language_info": {
   "codemirror_mode": {
    "name": "ipython",
    "version": 3
   },
   "file_extension": ".py",
   "mimetype": "text/x-python",
   "name": "python",
   "nbconvert_exporter": "python",
   "pygments_lexer": "ipython3",
   "version": "3.9.12"
  },
  "orig_nbformat": 4,
  "vscode": {
   "interpreter": {
    "hash": "2344b6d4cf75e2fe63d7adea2acd8b07cf02ecdef8a7e7834a9c3ab9d9f0906f"
   }
  }
 },
 "nbformat": 4,
 "nbformat_minor": 2
}
