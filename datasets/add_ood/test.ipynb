{
 "cells": [
  {
   "cell_type": "code",
   "execution_count": 11,
   "metadata": {},
   "outputs": [],
   "source": [
    "def count_c(a_digit, b_digit, c):\n",
    "    a_digit = int(a_digit)\n",
    "    b_digit = int(b_digit)\n",
    "    c = int(c)\n",
    "    if a_digit + b_digit + c>= 10:\n",
    "        return 1\n",
    "    else:\n",
    "        return 0\n",
    "\n",
    "def gen_cot_rationale(a, b, cot=\"scratch\"):\n",
    "    '''\n",
    "    return the cot rationale for the question\n",
    "    '''\n",
    "    if cot == \"scratch\":\n",
    "        a_digits = [digit for digit in str(a)]\n",
    "        b_digits = [digit for digit in str(b)]\n",
    "        rationale = \"\"\n",
    "        answer = \"\"\n",
    "        c = 0\n",
    "        for _ in range(len(str(int(a)+int(b)))+1):\n",
    "            line = f\"{''.join(a_digits)}+{''.join(b_digits)},{answer},C:{c}\\n\"\n",
    "            rationale += line\n",
    "            if a_digits and b_digits:\n",
    "                answer = str(int(a_digits[-1]) + int(b_digits[-1]) + c)[-1] + answer\n",
    "                c = count_c(a_digits[-1], b_digits[-1], c)\n",
    "                a_digits.pop()\n",
    "                b_digits.pop()\n",
    "            elif a_digits:\n",
    "                answer = str(int(a_digits[-1]) + c)[-1] + answer\n",
    "                c = count_c(a_digits[-1], 0, c)\n",
    "                a_digits.pop()\n",
    "            elif b_digits:\n",
    "                answer = str(int(b_digits[-1]) + c)[-1] + answer\n",
    "                c = count_c(0, b_digits[-1], c)\n",
    "                b_digits.pop()\n",
    "            else:\n",
    "                if c:\n",
    "                    answer = str(c) + answer\n",
    "                c = 0\n",
    "            \n",
    "        return  rationale.strip()"
   ]
  },
  {
   "cell_type": "code",
   "execution_count": 12,
   "metadata": {},
   "outputs": [
    {
     "name": "stdout",
     "output_type": "stream",
     "text": [
      "99+4,,C:0\n",
      "9+,3,C:1\n",
      "+,03,C:1\n",
      "+,103,C:0\n"
     ]
    }
   ],
   "source": [
    "print(gen_cot_rationale(99,4))"
   ]
  },
  {
   "cell_type": "code",
   "execution_count": 13,
   "metadata": {},
   "outputs": [
    {
     "name": "stdout",
     "output_type": "stream",
     "text": [
      "1+9,,C:0\n",
      "+,0,C:1\n",
      "+,10,C:0\n"
     ]
    }
   ],
   "source": [
    "def extract_answer(rationale):\n",
    "    answer = rationale.split(\"\\n\")[-1].split(\",\")[1]\n",
    "    return answer\n",
    "t = gen_cot_rationale(\"1\",\"9\")\n",
    "print(t)"
   ]
  },
  {
   "cell_type": "code",
   "execution_count": 15,
   "metadata": {},
   "outputs": [
    {
     "data": {
      "text/plain": [
       "'12+19,,C:0\\n1+1,1,C:1\\n+,31,C:0'"
      ]
     },
     "execution_count": 15,
     "metadata": {},
     "output_type": "execute_result"
    }
   ],
   "source": [
    "def count_c(a_digit, b_digit, c):\n",
    "    a_digit = int(a_digit)\n",
    "    b_digit = int(b_digit)\n",
    "    c = int(c)\n",
    "    if a_digit + b_digit + c>= 10:\n",
    "        return 1\n",
    "    else:\n",
    "        return 0\n",
    "\n",
    "def gen_cot_rationale(a, b, cot=\"scratch\"):\n",
    "    '''\n",
    "    return the cot rationale for the question\n",
    "    '''\n",
    "    if cot == \"scratch\":\n",
    "        a_digits = [digit for digit in str(a)]\n",
    "        b_digits = [digit for digit in str(b)]\n",
    "        rationale = \"\"\n",
    "        answer = \"\"\n",
    "        c = 0\n",
    "        for _ in range(len(str(int(a)+int(b)))+1):\n",
    "            line = f\"{''.join(a_digits)}+{''.join(b_digits)},{answer},C:{c}\\n\"\n",
    "            rationale += line\n",
    "            if a_digits and b_digits:\n",
    "                answer = str(int(a_digits[-1]) + int(b_digits[-1]) + c)[-1] + answer\n",
    "                c = count_c(a_digits[-1], b_digits[-1], c)\n",
    "                a_digits.pop()\n",
    "                b_digits.pop()\n",
    "            elif a_digits:\n",
    "                answer = str(int(a_digits[-1]) + c)[-1] + answer\n",
    "                c = count_c(a_digits[-1], 0, c)\n",
    "                a_digits.pop()\n",
    "            elif b_digits:\n",
    "                answer = str(int(b_digits[-1]) + c)[-1] + answer\n",
    "                c = count_c(0, b_digits[-1], c)\n",
    "                b_digits.pop()\n",
    "            else:\n",
    "                if c:\n",
    "                    answer = str(c) + answer\n",
    "                c = 0\n",
    "        return rationale.strip()\n",
    "\n",
    "gen_cot_rationale(12, 19)"
   ]
  },
  {
   "cell_type": "code",
   "execution_count": 1,
   "metadata": {},
   "outputs": [
    {
     "name": "stdout",
     "output_type": "stream",
     "text": [
      "56+47,,C:0\n",
      "5+4,3,C:1\n",
      "+,03,C:1\n",
      "+,103,C:0\n",
      "103\n"
     ]
    }
   ],
   "source": [
    "print(\"56+47,,C:0\\n5+4,3,C:1\\n+,03,C:1\\n+,103,C:0\\n103\")"
   ]
  }
 ],
 "metadata": {
  "kernelspec": {
   "display_name": "Python 3.9.12 ('base': conda)",
   "language": "python",
   "name": "python3"
  },
  "language_info": {
   "codemirror_mode": {
    "name": "ipython",
    "version": 3
   },
   "file_extension": ".py",
   "mimetype": "text/x-python",
   "name": "python",
   "nbconvert_exporter": "python",
   "pygments_lexer": "ipython3",
   "version": "3.9.12"
  },
  "orig_nbformat": 4,
  "vscode": {
   "interpreter": {
    "hash": "2344b6d4cf75e2fe63d7adea2acd8b07cf02ecdef8a7e7834a9c3ab9d9f0906f"
   }
  }
 },
 "nbformat": 4,
 "nbformat_minor": 2
}
