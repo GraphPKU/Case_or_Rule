{
 "cells": [
  {
   "cell_type": "code",
   "execution_count": 14,
   "metadata": {},
   "outputs": [
    {
     "data": {
      "text/plain": [
       "'231'"
      ]
     },
     "execution_count": 14,
     "metadata": {},
     "output_type": "execute_result"
    }
   ],
   "source": [
    "def convert_to_base(n, base):\n",
    "    s = \"\"\n",
    "    while True:\n",
    "        if n < base:\n",
    "            s = str(n) + s\n",
    "            break\n",
    "        else:\n",
    "            d = n % base\n",
    "            n = n // base\n",
    "            s = str(d) + s\n",
    "    return s\n",
    "\n",
    "convert_to_base(190,9)\n",
    "# 100//9"
   ]
  }
 ],
 "metadata": {
  "kernelspec": {
   "display_name": "Python 3.9.12 ('base': conda)",
   "language": "python",
   "name": "python3"
  },
  "language_info": {
   "codemirror_mode": {
    "name": "ipython",
    "version": 3
   },
   "file_extension": ".py",
   "mimetype": "text/x-python",
   "name": "python",
   "nbconvert_exporter": "python",
   "pygments_lexer": "ipython3",
   "version": "3.9.12"
  },
  "orig_nbformat": 4,
  "vscode": {
   "interpreter": {
    "hash": "2344b6d4cf75e2fe63d7adea2acd8b07cf02ecdef8a7e7834a9c3ab9d9f0906f"
   }
  }
 },
 "nbformat": 4,
 "nbformat_minor": 2
}
