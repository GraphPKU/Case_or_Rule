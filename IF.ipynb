{
 "cells": [
  {
   "cell_type": "code",
   "execution_count": 35,
   "metadata": {},
   "outputs": [],
   "source": [
    "import torch\n",
    "from torch.autograd import grad\n",
    "from transformers.models.gpt2 import GPT2Config, GPT2LMHeadModel, GPT2Tokenizer\n",
    "import transformers\n",
    "from transformers import AutoTokenizer\n",
    "from dataset import GPT2Dataset, GPT2DatasetReplace, TestDataset\n",
    "from tqdm import tqdm\n",
    "import random\n",
    "import numpy as np\n",
    "import json\n",
    "import re\n",
    "import os"
   ]
  },
  {
   "cell_type": "code",
   "execution_count": 36,
   "metadata": {},
   "outputs": [],
   "source": [
    "device = \"cuda:0\"\n",
    "task = \"add_ood\"\n",
    "cot = True\n",
    "number = \"a100_b100_3hole\""
   ]
  },
  {
   "cell_type": "code",
   "execution_count": 37,
   "metadata": {},
   "outputs": [
    {
     "name": "stdout",
     "output_type": "stream",
     "text": [
      "loading model...\n",
      "done!\n"
     ]
    }
   ],
   "source": [
    "print(\"loading model...\")\n",
    "model_name = \"gpt2\"\n",
    "if cot:\n",
    "    model = GPT2LMHeadModel.from_pretrained(f\"save_model_{model_name}/{task}/{number}_cot/model_99\").to(device)\n",
    "else:\n",
    "    model = GPT2LMHeadModel.from_pretrained(f\"save_model_{model_name}/{task}/{number}/model_99\").to(device)\n",
    "tokenizer = GPT2Tokenizer.from_pretrained(\"pretrained_models/gpt2\")\n",
    "print(\"done!\")\n",
    "\n",
    "if cot:\n",
    "    file_path_test=f'datasets/{task}/{number}/test_cot.json'\n",
    "    file_path_train=f'datasets/{task}/{number}/train_cot.json'\n",
    "else:\n",
    "    file_path_test=f'datasets/{task}/{number}/test.json'\n",
    "    file_path_train=f'datasets/{task}/{number}/train.json'\n",
    "\n",
    "with open(file_path_test, \"r\") as f:\n",
    "    test_set = json.load(f)\n",
    "\n",
    "with open(file_path_train, \"r\") as f:\n",
    "    train_set = json.load(f)"
   ]
  },
  {
   "cell_type": "code",
   "execution_count": 38,
   "metadata": {},
   "outputs": [],
   "source": [
    "def get_token_id(number: int):\n",
    "    '''\n",
    "    get the token_id for the number\n",
    "    '''\n",
    "    token_id = tokenizer(str(number)).input_ids\n",
    "    assert len(token_id) == 1\n",
    "    return token_id[0]"
   ]
  },
  {
   "cell_type": "code",
   "execution_count": 39,
   "metadata": {},
   "outputs": [],
   "source": [
    "# we use the parameters corresponding to 0~99 in the last classification layer as \\theta\n",
    "w = model.lm_head.weight\n",
    "token_ids = torch.tensor([get_token_id(n) for n in range(100)]).to(device)\n",
    "theta = torch.index_select(w, 0, token_ids)"
   ]
  },
  {
   "cell_type": "code",
   "execution_count": 40,
   "metadata": {},
   "outputs": [],
   "source": [
    "def hessian_vector_product(y,v):\n",
    "    \"\"\"\n",
    "    Arguments:\n",
    "        y: 标量/tensor，通常来说为loss函数的输出\n",
    "        v: pytorch tensor的list，代表需要与hessian矩阵乘积的向量\n",
    "    Returns:\n",
    "        return_grads: pytorch tensor的list, 代表hvp的最终结果.\n",
    "    Raises:\n",
    "        ValueError: y 与 w 长度不同.\"\"\"\n",
    "    model.zero_grad()\n",
    "    first_grads = grad(y, model.lm_head.weight, retain_graph=True, create_graph=True)[0]\n",
    "    a = torch.index_select(first_grads, 0, token_ids).reshape(-1) @ v\n",
    "    a.backward()\n",
    "    return torch.index_select(model.lm_head.weight.grad, 0, token_ids).reshape(-1)\n",
    "\n",
    "def extract_inputs_from_dataset(idx, dataset):\n",
    "    sample = dataset[idx][\"question\"]+dataset[idx][\"answers\"][0]\n",
    "    inputs = tokenizer(sample, return_tensors='pt').input_ids\n",
    "    return inputs\n",
    "\n",
    "def get_nabla_theta_L(z, alpha=1):\n",
    "    r'''\n",
    "    get $\\nabla_{\\theta}L(z, \\theta)$\n",
    "    '''\n",
    "    model.zero_grad()\n",
    "    outputs = model(z, labels=z)\n",
    "    loss = outputs.loss\n",
    "    loss = loss * alpha\n",
    "    loss.backward()\n",
    "    g = torch.index_select(model.lm_head.weight.grad, 0, token_ids)\n",
    "    return g.reshape(-1)"
   ]
  },
  {
   "cell_type": "code",
   "execution_count": 41,
   "metadata": {},
   "outputs": [],
   "source": [
    "def get_hv(test_idx, Hv=None, damp=0.01, alpha=1, iter_times=100, sample_num=1):\n",
    "    model.zero_grad()\n",
    "    z_test = extract_inputs_from_dataset(test_idx, test_set).to(device)\n",
    "    v = get_nabla_theta_L(z_test, alpha).to(device)\n",
    "    if Hv == None:\n",
    "        Hv = v.to(device)\n",
    "    Hv_list = []\n",
    "    # start iteration\n",
    "    # H_j^{-1}v = v + (I-\\nabla^2_\\theta L(z_{sj}, \\theta))H_{j-1}^{-1}v\n",
    "    for iter_time in tqdm(range(iter_times)):\n",
    "        hvp = torch.zeros_like(v)\n",
    "        # sample z_sj from training set\n",
    "        for _ in range(sample_num):\n",
    "            model.zero_grad()\n",
    "            sj = random.randint(0, len(train_set)-1)\n",
    "            z_sj = extract_inputs_from_dataset(sj, train_set).to(device)\n",
    "            loss = model(z_sj, labels = z_sj).loss\n",
    "            loss = loss * alpha\n",
    "            hvp += hessian_vector_product(loss, Hv)\n",
    "        Hv = v + (1-damp) * Hv - hvp / sample_num\n",
    "        Hv_list.append(Hv[0].item())\n",
    "        if iter_time % (iter_times/10) == 0:\n",
    "            print(\"=\"*20 + f\" iter: {iter_time} \"+\"=\"*20)\n",
    "            # print(Hv)\n",
    "            print(f\"$\\Delta$ = {torch.norm(v - hvp/sample_num)}\")\n",
    "    return Hv, Hv_list\n",
    "\n",
    "def calc_IF(train_idx, Hv):\n",
    "    z_train = extract_inputs_from_dataset(train_idx, train_set).to(device)\n",
    "    nabla_theta_L_train = get_nabla_theta_L(z_train).to(device)\n",
    "    return - Hv @ nabla_theta_L_train\n"
   ]
  },
  {
   "cell_type": "code",
   "execution_count": 42,
   "metadata": {},
   "outputs": [],
   "source": [
    "def get_influence_factor(train_idx, test_idx, alpha=1, iter_times=100, sample_num=1, wn=\"model.transformer.h[11].mlp.c_fc\"):\n",
    "    model.zero_grad()\n",
    "    z_test = extract_inputs_from_dataset(test_idx, test_set).to(device)\n",
    "    z_train = extract_inputs_from_dataset(train_idx, train_set).to(device)\n",
    "    nabla_theta_L_train = get_nabla_theta_L(z_train).to(device)\n",
    "    v = get_nabla_theta_L(z_test).to(device)\n",
    "    Hv = v.to(device)\n",
    "    IF_list = []\n",
    "    # start iteration\n",
    "    # H_j^{-1}v = v + (I-\\nabla^2_\\theta L(z_{sj}, \\theta))H_{j-1}^{-1}v\n",
    "    for iter_time in tqdm(range(iter_times)):\n",
    "        hvp = torch.zeros_like(v)\n",
    "        # sample z_sj from training set\n",
    "        for _ in range(sample_num):\n",
    "            model.zero_grad()\n",
    "            sj = random.randint(0, len(train_set)-1)\n",
    "            z_sj = extract_inputs_from_dataset(sj, train_set).to(device)\n",
    "            loss = model(z_sj, labels = z_sj).loss\n",
    "            loss = loss * alpha\n",
    "            hvp += hessian_vector_product(loss, Hv, wn)\n",
    "        Hv = v + Hv - hvp / sample_num\n",
    "        IF_list.append((- Hv @ nabla_theta_L_train).item())\n",
    "        # if iter_time % 200 == 0:\n",
    "        #     print(\"=\"*20 + f\" iter: {iter_time} \"+\"=\"*20)\n",
    "        #     # print(Hv)\n",
    "        #     print(f\"$\\Delta$ = {torch.norm(v - hvp/sample_num)}\")\n",
    "    return IF_list[-1], IF_list        \n",
    "    # return - Hv @ nabla_theta_L_train"
   ]
  },
  {
   "cell_type": "code",
   "execution_count": 43,
   "metadata": {},
   "outputs": [],
   "source": [
    "test_idx = 0"
   ]
  },
  {
   "cell_type": "code",
   "execution_count": 44,
   "metadata": {},
   "outputs": [
    {
     "name": "stdout",
     "output_type": "stream",
     "text": [
      "5+17=\n"
     ]
    }
   ],
   "source": [
    "a_range = int(np.sqrt(len(test_set) + len(train_set)))\n",
    "print(test_set[test_idx][\"question\"])"
   ]
  },
  {
   "cell_type": "code",
   "execution_count": 45,
   "metadata": {},
   "outputs": [
    {
     "name": "stderr",
     "output_type": "stream",
     "text": [
      "  0%|          | 2/10000 [00:00<10:58, 15.19it/s]"
     ]
    },
    {
     "name": "stdout",
     "output_type": "stream",
     "text": [
      "==================== iter: 0 ====================\n",
      "$\\Delta$ = 0.008428238332271576\n"
     ]
    },
    {
     "name": "stderr",
     "output_type": "stream",
     "text": [
      " 10%|█         | 1002/10000 [01:08<09:30, 15.76it/s]"
     ]
    },
    {
     "name": "stdout",
     "output_type": "stream",
     "text": [
      "==================== iter: 1000 ====================\n",
      "$\\Delta$ = 0.007007988169789314\n"
     ]
    },
    {
     "name": "stderr",
     "output_type": "stream",
     "text": [
      " 20%|██        | 2003/10000 [02:16<10:27, 12.74it/s]"
     ]
    },
    {
     "name": "stdout",
     "output_type": "stream",
     "text": [
      "==================== iter: 2000 ====================\n",
      "$\\Delta$ = 0.007035189773887396\n"
     ]
    },
    {
     "name": "stderr",
     "output_type": "stream",
     "text": [
      " 30%|███       | 3003/10000 [03:25<07:51, 14.84it/s]"
     ]
    },
    {
     "name": "stdout",
     "output_type": "stream",
     "text": [
      "==================== iter: 3000 ====================\n",
      "$\\Delta$ = 0.007260085083544254\n"
     ]
    },
    {
     "name": "stderr",
     "output_type": "stream",
     "text": [
      " 40%|████      | 4003/10000 [04:34<07:53, 12.67it/s]"
     ]
    },
    {
     "name": "stdout",
     "output_type": "stream",
     "text": [
      "==================== iter: 4000 ====================\n",
      "$\\Delta$ = 0.008429872803390026\n"
     ]
    },
    {
     "name": "stderr",
     "output_type": "stream",
     "text": [
      " 50%|█████     | 5003/10000 [05:46<05:33, 14.99it/s]"
     ]
    },
    {
     "name": "stdout",
     "output_type": "stream",
     "text": [
      "==================== iter: 5000 ====================\n",
      "$\\Delta$ = 0.007260242942720652\n"
     ]
    },
    {
     "name": "stderr",
     "output_type": "stream",
     "text": [
      " 60%|██████    | 6002/10000 [06:56<04:30, 14.80it/s]"
     ]
    },
    {
     "name": "stdout",
     "output_type": "stream",
     "text": [
      "==================== iter: 6000 ====================\n",
      "$\\Delta$ = 0.006596771534532309\n"
     ]
    },
    {
     "name": "stderr",
     "output_type": "stream",
     "text": [
      " 70%|███████   | 7003/10000 [08:04<03:15, 15.29it/s]"
     ]
    },
    {
     "name": "stdout",
     "output_type": "stream",
     "text": [
      "==================== iter: 7000 ====================\n",
      "$\\Delta$ = 0.006955402437597513\n"
     ]
    },
    {
     "name": "stderr",
     "output_type": "stream",
     "text": [
      " 80%|████████  | 8002/10000 [09:12<02:14, 14.86it/s]"
     ]
    },
    {
     "name": "stdout",
     "output_type": "stream",
     "text": [
      "==================== iter: 8000 ====================\n",
      "$\\Delta$ = 0.006778889801353216\n"
     ]
    },
    {
     "name": "stderr",
     "output_type": "stream",
     "text": [
      " 90%|█████████ | 9002/10000 [10:21<01:11, 13.96it/s]"
     ]
    },
    {
     "name": "stdout",
     "output_type": "stream",
     "text": [
      "==================== iter: 9000 ====================\n",
      "$\\Delta$ = 0.006587769370526075\n"
     ]
    },
    {
     "name": "stderr",
     "output_type": "stream",
     "text": [
      "100%|██████████| 10000/10000 [11:29<00:00, 14.50it/s]\n"
     ]
    }
   ],
   "source": [
    "alpha = 0.01\n",
    "iter_times = 10000\n",
    "Hv, Hv_list = get_hv(test_idx, alpha=alpha, iter_times=iter_times)"
   ]
  },
  {
   "cell_type": "code",
   "execution_count": 46,
   "metadata": {},
   "outputs": [
    {
     "name": "stderr",
     "output_type": "stream",
     "text": [
      "100%|██████████| 8741/8741 [05:14<00:00, 27.75it/s]\n"
     ]
    }
   ],
   "source": [
    "I = np.zeros((a_range, a_range))\n",
    "for train_idx in tqdm(range(len(train_set))):\n",
    "    a = int(train_set[train_idx][\"a\"])\n",
    "    b = int(train_set[train_idx][\"b\"])\n",
    "    I[a, b] = calc_IF(train_idx, Hv)"
   ]
  },
  {
   "cell_type": "code",
   "execution_count": 47,
   "metadata": {},
   "outputs": [
    {
     "data": {
      "image/png": "[encoded data removed]",
      "text/plain": [
       "<Figure size 640x480 with 2 Axes>"
      ]
     },
     "metadata": {},
     "output_type": "display_data"
    }
   ],
   "source": [
    "import matplotlib.pyplot as plt\n",
    "plt.imshow(I)\n",
    "plt.colorbar()\n",
    "plt.savefig(f\"IF_{test_idx}_alpha={alpha}_CoT.pdf\")"
   ]
  },
  {
   "cell_type": "code",
   "execution_count": 48,
   "metadata": {},
   "outputs": [],
   "source": [
    "# _I = torch.tensor(I)\n",
    "# l = [i for i in range(100)]\n",
    "\n",
    "# idx = torch.tensor(l)\n",
    "# _I = torch.index_select(_I, 1, idx)\n",
    "# plt.imshow(_I)\n",
    "# plt.colorbar()"
   ]
  },
  {
   "cell_type": "code",
   "execution_count": 49,
   "metadata": {},
   "outputs": [
    {
     "data": {
      "text/plain": [
       "0.5272418017720988"
      ]
     },
     "execution_count": 49,
     "metadata": {},
     "output_type": "execute_result"
    }
   ],
   "source": [
    "np.exp(I.min())"
   ]
  },
  {
   "cell_type": "code",
   "execution_count": 50,
   "metadata": {},
   "outputs": [
    {
     "data": {
      "image/png": "[encoded data removed]",
      "text/plain": [
       "<Figure size 640x480 with 1 Axes>"
      ]
     },
     "metadata": {},
     "output_type": "display_data"
    }
   ],
   "source": [
    "plt.plot(np.arange(len(Hv_list)), Hv_list)\n",
    "plt.savefig(f\"al={alpha}_it={iter_times}_test={test_idx}_d={0.01}_CoT.png\")"
   ]
  },
  {
   "cell_type": "code",
   "execution_count": 56,
   "metadata": {},
   "outputs": [
    {
     "data": {
      "text/plain": [
       "array([17, 17, 17, 17, 17,  2,  0,  0,  0,  0,  5,  5,  5,  5,  5,  5,  5,\n",
       "        5,  5,  5,  5,  5,  5,  5,  5,  5,  5,  5,  5,  5,  5,  5, 17, 17,\n",
       "       17, 17, 17, 17, 17, 17, 17, 17, 17, 17, 17, 17, 17, 17, 17, 17, 17,\n",
       "       17, 17, 17, 17, 17, 17, 17, 17, 17, 17, 17, 17, 17, 17, 17, 17, 17,\n",
       "       17, 17, 17, 17, 17, 17, 17, 17, 17, 17, 17, 17, 17, 17, 17, 17, 17,\n",
       "       17, 17, 17, 17, 17, 17, 17, 17, 17, 17, 17, 17, 17, 17, 17])"
      ]
     },
     "execution_count": 56,
     "metadata": {},
     "output_type": "execute_result"
    }
   ],
   "source": [
    "np.argmin(I, axis=1)"
   ]
  },
  {
   "cell_type": "code",
   "execution_count": 57,
   "metadata": {},
   "outputs": [
    {
     "data": {
      "text/plain": [
       "<matplotlib.colorbar.Colorbar at 0x7f9b9009cfa0>"
      ]
     },
     "execution_count": 57,
     "metadata": {},
     "output_type": "execute_result"
    },
    {
     "data": {
      "image/png": "[encoded data removed]",
      "text/plain": [
       "<Figure size 640x480 with 2 Axes>"
      ]
     },
     "metadata": {},
     "output_type": "display_data"
    }
   ],
   "source": [
    "_I = torch.tensor(I)\n",
    "l = [i for i in range(100)]\n",
    "del l[17]\n",
    "idx = torch.tensor(l)\n",
    "_I = torch.index_select(_I, 1, idx)\n",
    "plt.imshow(_I)\n",
    "plt.colorbar()"
   ]
  }
 ],
 "metadata": {
  "kernelspec": {
   "display_name": "Python 3.9.12 ('base': conda)",
   "language": "python",
   "name": "python3"
  },
  "language_info": {
   "codemirror_mode": {
    "name": "ipython",
    "version": 3
   },
   "file_extension": ".py",
   "mimetype": "text/x-python",
   "name": "python",
   "nbconvert_exporter": "python",
   "pygments_lexer": "ipython3",
   "version": "3.9.12"
  },
  "orig_nbformat": 4,
  "vscode": {
   "interpreter": {
    "hash": "2344b6d4cf75e2fe63d7adea2acd8b07cf02ecdef8a7e7834a9c3ab9d9f0906f"
   }
  }
 },
 "nbformat": 4,
 "nbformat_minor": 2
}
